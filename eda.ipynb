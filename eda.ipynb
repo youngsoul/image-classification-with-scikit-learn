{
 "cells": [
  {
   "cell_type": "markdown",
   "id": "ab08ac077e25fdc5",
   "metadata": {},
   "source": [
    "# Exploratory Data Analysis\n",
    "\n"
   ]
  },
  {
   "cell_type": "markdown",
   "id": "3bc6fa51bc3d38d7",
   "metadata": {},
   "source": [
    "Using the UMAP library to reduce the dimensions of the image embeddings from 512 and 2.  Then create a scatter plot to see if there are natural clusters around the target values."
   ]
  },
  {
   "cell_type": "code",
   "execution_count": 17,
   "id": "73711731-7446-498f-863b-684e0b098ed7",
   "metadata": {},
   "outputs": [],
   "source": [
    "from embetter.vision import ImageLoader\n",
    "from embetter.multi import ClipEncoder\n",
    "from embetter.grab import ColumnGrabber\n",
    "\n",
    "from sklearn.pipeline import make_pipeline\n",
    "from sklearn.metrics import accuracy_score\n",
    "from sklearn.linear_model import LogisticRegression\n",
    "from sklearn.model_selection import StratifiedKFold\n",
    "from sklearn.model_selection import cross_val_score\n",
    "\n",
    "import pandas as pd\n",
    "from pathlib import Path\n",
    "from typing import Literal, List\n",
    "import time\n",
    "import os\n",
    "\n",
    "import umap\n",
    "import matplotlib.pyplot as plt\n"
   ]
  },
  {
   "cell_type": "code",
   "execution_count": null,
   "id": "f7c0b33f-17cf-48c2-a1a3-a86fb9c2ab3c",
   "metadata": {},
   "outputs": [],
   "source": []
  },
  {
   "cell_type": "code",
   "execution_count": 8,
   "id": "055b7398-0d7e-4399-8d56-eb5f4f0e5f05",
   "metadata": {},
   "outputs": [
    {
     "data": {
      "text/plain": [
       "'/Users/patrickryan/Development/machinelearning/scikit-learn/opencv-project1/dataset'"
      ]
     },
     "execution_count": 8,
     "metadata": {},
     "output_type": "execute_result"
    }
   ],
   "source": [
    "target_dirs = ['cow', 'elephant', 'horse', 'spider']\n",
    "root_dir = str(Path(\".\").parent.resolve()) + \"/dataset\"\n",
    "root_dir"
   ]
  },
  {
   "cell_type": "code",
   "execution_count": null,
   "id": "d396818c-86be-48eb-8291-b2841bf9afea",
   "metadata": {},
   "outputs": [],
   "source": []
  },
  {
   "cell_type": "code",
   "execution_count": 9,
   "id": "e2dd3c58-4241-4e49-a261-5a55e58f3c6a",
   "metadata": {},
   "outputs": [],
   "source": [
    "\n",
    "def create_filepaths_df(dir_name: Literal['Train','Valid'], dirs: List = target_dirs) -> pd.DataFrame:\n",
    "    data = []\n",
    "    for dir in dirs:\n",
    "        for file in Path(f'{root_dir}/{dir_name}/{dir}').glob('*.jpg'):\n",
    "            row_data = {\n",
    "                'filepath': file,\n",
    "                'target': dir\n",
    "            }\n",
    "            data.append(row_data)\n",
    "    files_df = pd.DataFrame(data, columns=[\"filepath\", \"target\"])\n",
    "    return files_df\n"
   ]
  },
  {
   "cell_type": "code",
   "execution_count": 10,
   "id": "007724f3-0af2-438b-a6f3-53937314cb09",
   "metadata": {},
   "outputs": [
    {
     "name": "stderr",
     "output_type": "stream",
     "text": [
      "Using a slow image processor as `use_fast` is unset and a slow processor was saved with this model. `use_fast=True` will be the default behavior in v4.52, even if the model was saved with a slow processor. This will result in minor differences in outputs. You'll still be able to use a slow processor with `use_fast=False`.\n"
     ]
    },
    {
     "name": "stdout",
     "output_type": "stream",
     "text": [
      "(3997, 512)\n",
      "(3997,)\n"
     ]
    }
   ],
   "source": [
    "training_files_df = create_filepaths_df(dir_name='Train')\n",
    "\n",
    "# create pipeline to read the filepath column, load the image, and encode the image\n",
    "image_embedding_pipeline = make_pipeline(\n",
    "   ColumnGrabber(\"filepath\"),\n",
    "  ImageLoader(convert=\"RGB\"),\n",
    "  ClipEncoder(),\n",
    ")\n",
    "\n",
    "# convert the filepaths to embeddings\n",
    "X = image_embedding_pipeline.fit_transform(training_files_df)\n",
    "y = training_files_df['target']\n",
    "print(X.shape)\n",
    "print(y.shape)\n"
   ]
  },
  {
   "cell_type": "code",
   "execution_count": 12,
   "id": "19a6ac41-8f2f-4e07-bff5-8e2fd3a48a94",
   "metadata": {},
   "outputs": [
    {
     "data": {
      "text/plain": [
       "numpy.ndarray"
      ]
     },
     "execution_count": 12,
     "metadata": {},
     "output_type": "execute_result"
    }
   ],
   "source": [
    "type(X)"
   ]
  },
  {
   "cell_type": "markdown",
   "id": "88229786-92ba-4642-875c-7520670c23ef",
   "metadata": {},
   "source": [
    "## Reduce the dimension of the embeddings to 2 to plot\n",
    "\n",
    "Using UMAP to reduce the dimentionality to plot the different embeddings for each image to see if there are clusterings per label.\n"
   ]
  },
  {
   "cell_type": "code",
   "execution_count": 13,
   "id": "6744cc06-d413-464b-b7b5-be97f774a944",
   "metadata": {},
   "outputs": [],
   "source": [
    "reducer = umap.UMAP(n_components=2, random_state=42)"
   ]
  },
  {
   "cell_type": "code",
   "execution_count": 14,
   "id": "ca5a9dec-3057-4c11-b956-39c0e5cf1477",
   "metadata": {},
   "outputs": [
    {
     "name": "stderr",
     "output_type": "stream",
     "text": [
      "/Users/patrickryan/Development/machinelearning/scikit-learn/opencv-project1/.venv/lib/python3.11/site-packages/sklearn/utils/deprecation.py:151: FutureWarning: 'force_all_finite' was renamed to 'ensure_all_finite' in 1.6 and will be removed in 1.8.\n",
      "  warnings.warn(\n",
      "/Users/patrickryan/Development/machinelearning/scikit-learn/opencv-project1/.venv/lib/python3.11/site-packages/umap/umap_.py:1952: UserWarning: n_jobs value 1 overridden to 1 by setting random_state. Use no seed for parallelism.\n",
      "  warn(\n"
     ]
    }
   ],
   "source": [
    "reduced_embedding = reducer.fit_transform(X)"
   ]
  },
  {
   "cell_type": "code",
   "execution_count": 22,
   "id": "150d367d-03e9-48a7-b8fa-dd86337e1fd2",
   "metadata": {},
   "outputs": [
    {
     "name": "stdout",
     "output_type": "stream",
     "text": [
      "Original shape: (3997, 512)\n",
      "Reduced shape: (3997, 2)\n"
     ]
    },
    {
     "data": {
      "image/png": "[encoded data removed]",
      "text/plain": [
       "<Figure size 640x480 with 1 Axes>"
      ]
     },
     "metadata": {},
     "output_type": "display_data"
    }
   ],
   "source": [
    "print(\"Original shape:\", X.shape)\n",
    "print(\"Reduced shape:\", reduced_embedding.shape)\n",
    "\n",
    "# Optional: visualize the result\n",
    "for label in y.unique():\n",
    "    idx = y == label\n",
    "    plt.scatter(\n",
    "        reduced_embedding[idx, 0], reduced_embedding[idx, 1],\n",
    "        label=label, s=10\n",
    "    )\n",
    "plt.title('UMAP Projection (512D to 2D)')\n",
    "plt.xlabel('UMAP-1')\n",
    "plt.ylabel('UMAP-2')\n",
    "plt.legend(title='Label')\n",
    "\n",
    "plt.show()"
   ]
  },
  {
   "cell_type": "code",
   "execution_count": null,
   "id": "6410afde-091b-43fc-a15a-36b5598ea5b7",
   "metadata": {},
   "outputs": [],
   "source": []
  }
 ],
 "metadata": {
  "kernelspec": {
   "display_name": "Python 3 (ipykernel)",
   "language": "python",
   "name": "python3"
  },
  "language_info": {
   "codemirror_mode": {
    "name": "ipython",
    "version": 3
   },
   "file_extension": ".py",
   "mimetype": "text/x-python",
   "name": "python",
   "nbconvert_exporter": "python",
   "pygments_lexer": "ipython3",
   "version": "3.11.3"
  }
 },
 "nbformat": 4,
 "nbformat_minor": 5
}
